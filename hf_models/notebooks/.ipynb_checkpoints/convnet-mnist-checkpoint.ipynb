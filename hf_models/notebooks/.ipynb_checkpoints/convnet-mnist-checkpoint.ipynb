{
 "cells": [
  {
   "cell_type": "code",
   "execution_count": 4,
   "id": "78ef3664",
   "metadata": {},
   "outputs": [],
   "source": [
    "# imports\n",
    "import torch\n",
    "from transformers import PreTrainedModel, PreTrainedConfig"
   ]
  },
  {
   "cell_type": "code",
   "execution_count": null,
   "id": "d6898265",
   "metadata": {},
   "outputs": [],
   "source": [
    "# dataset\n",
    "from dataset import load_dataset"
   ]
  },
  {
   "cell_type": "code",
   "execution_count": 2,
   "id": "2072de05",
   "metadata": {},
   "outputs": [
    {
     "ename": "TypeError",
     "evalue": "Device() received an invalid combination of arguments - got (), but expected one of:\n * (torch.device device)\n * (str type, int index)\n",
     "output_type": "error",
     "traceback": [
      "\u001b[0;31m---------------------------------------------------------------------------\u001b[0m",
      "\u001b[0;31mTypeError\u001b[0m                                 Traceback (most recent call last)",
      "Cell \u001b[0;32mIn[2], line 1\u001b[0m\n\u001b[0;32m----> 1\u001b[0m \u001b[43mtorch\u001b[49m\u001b[38;5;241;43m.\u001b[39;49m\u001b[43mdevice\u001b[49m\u001b[43m(\u001b[49m\u001b[43m)\u001b[49m\n",
      "\u001b[0;31mTypeError\u001b[0m: Device() received an invalid combination of arguments - got (), but expected one of:\n * (torch.device device)\n * (str type, int index)\n"
     ]
    }
   ],
   "source": [
    "# model\n",
    "class CustomModel(PreTrainedModel):\n",
    "    def __init__(self, config):\n",
    "        super().__init__(config)\n",
    "        self.encoder = torch.nn.Linear(config.input_size, config.hidden_size)\n",
    "        self.activation = torch.nn.ReLU()\n",
    "        self.decoder = torch.nn.Linear(config.hidden_size, config.output_size)\n",
    "        self.init_weights()\n",
    "\n",
    "    def forward(self, input_ids=None, **kwargs):\n",
    "        hidden_states = self.encoder(input_ids)\n",
    "        hidden_states = self.activation(hidden_states)\n",
    "        logits = self.decoder(hidden_states)\n",
    "        return logits\n"
   ]
  },
  {
   "cell_type": "code",
   "execution_count": null,
   "id": "40f075ea",
   "metadata": {},
   "outputs": [],
   "source": [
    "# config\n"
   ]
  }
 ],
 "metadata": {
  "kernelspec": {
   "display_name": "Python 3 (ipykernel)",
   "language": "python",
   "name": "python3"
  },
  "language_info": {
   "codemirror_mode": {
    "name": "ipython",
    "version": 3
   },
   "file_extension": ".py",
   "mimetype": "text/x-python",
   "name": "python",
   "nbconvert_exporter": "python",
   "pygments_lexer": "ipython3",
   "version": "3.11.3"
  }
 },
 "nbformat": 4,
 "nbformat_minor": 5
}
